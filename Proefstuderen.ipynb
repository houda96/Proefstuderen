{
 "cells": [
  {
   "cell_type": "markdown",
   "metadata": {},
   "source": [
    "# Proefstuderen:\n",
    "# Data Analysis & Visualisation: Lineair Regression\n",
    "\n",
    "$$\n",
    "\\newcommand{\\ls}[1]{{}^{(#1)}}\n",
    "\\renewcommand{\\v}[1]{\\boldsymbol{#1}}\n",
    "\\renewcommand{\\T}{{}^T}\n",
    "\\newcommand{\\matvec}[1]{\\begin{pmatrix}#1\\end{pmatrix}}\n",
    "$$"
   ]
  },
  {
   "cell_type": "markdown",
   "metadata": {},
   "source": [
    "It is boring and unnecessary to write the same code for multiple programs, which is why we use code written by other people to help us. We call this _'importing'_. But our program needs to know that we want to use other people's code. We do this by telling our program that we want to use _libraries_ which contain many pieces of code which will be helpful in our work. The libraries we will use are imported in the gray block below. \n",
    "\n",
    "- Pylab will help us work with the data (NumPy) and allow us to make graphs (matplotlib)\n",
    "- Sklearn will help us with Lineair regression\n",
    "- Pandas will help us to _read_ the data from files easier and show it more intuitively\n",
    "\n",
    "To have this code work, we need to _execute_ it. You can execute this code by selecting it so a blue line appears on the left of the screen next to this block and then pressing the play-button at the top of the screen. Instead of pressing the play-button, you could also press ctrl+enter while having the block selected.\n",
    "\n",
    "If everything works, the line \"Populating the interactive namespace from numpy and matplotlib\" will appear below the block _and nothing else_. If anything different happens, such as red text, **raise your hand and ask help from an assistent**!"
   ]
  },
  {
   "cell_type": "code",
   "execution_count": null,
   "metadata": {},
   "outputs": [],
   "source": [
    "# Run this to use further\n",
    "%pylab inline\n",
    "from sklearn import linear_model\n",
    "import pandas as pd"
   ]
  },
  {
   "cell_type": "markdown",
   "metadata": {},
   "source": [
    "## Load different datasets\n",
    "First, we will need data to work with. We have written a handy function for you that reads data from files and puts them in lists. \n",
    "\n",
    "Try to figure out how the following code works and execute the block once you understand it. **Note**: you should not make changes to this block!"
   ]
  },
  {
   "cell_type": "code",
   "execution_count": null,
   "metadata": {},
   "outputs": [],
   "source": [
    "# Run this block to use the datasets! \n",
    "\n",
    "def load_dataset_file(file):\n",
    "    ''' Given a text file containing x and y values spaced by a space and each point on a separate line, return \n",
    "        the x and y values separately. '''\n",
    "    # Go through the file \n",
    "    with open(file) as f:\n",
    "        data = f.read()\n",
    "    data_points = data.split(\"\\n\")[1:-1]\n",
    "    \n",
    "    # Find the x and y values and store them \n",
    "    x = []\n",
    "    y = []\n",
    "    for data_point in data_points:\n",
    "        list_points = data_point.split(\" \")\n",
    "        x.append(float(list_points[0]))\n",
    "        y.append(float(list_points[1]))\n",
    "    return x, y\n",
    "    \n",
    "x_1, y_1 = load_dataset_file(\"dataset1.txt\")\n",
    "x_2, y_2 = load_dataset_file(\"dataset2.txt\")\n",
    "x_3, y_3 = load_dataset_file(\"dataset3.txt\")\n",
    "x_4, y_4 = load_dataset_file(\"dataset4.txt\")"
   ]
  },
  {
   "cell_type": "markdown",
   "metadata": {},
   "source": [
    "## Statistics for the different datasets\n",
    "Alright, now that we have data let's see what we can find out about it. We will use one of the libraries that we importer earlier, called _NumPy_ which has a lot of functions to give you statistics of datasets. A large part of programming is using other people's function. These are documented in the _reference_. The reference for doing statistics in NumPy can be found [on this website](https://docs.scipy.org/doc/numpy-1.13.0/reference/routines.statistics.html).\n",
    "\n",
    "Look at the reference material for numpy, find the Numpy-functions that you need based on the variable name (averages and variances!) and finish the function in the following block.\n",
    "\n",
    "**Hint**: You can use numpy-functions by writing *np.function_name(put_variables_here)*. np is short for numpy!\n",
    "\n",
    "**Hint**: When you type np. and then use the tab key, you get a full list of functions that can be found within numpy."
   ]
  },
  {
   "cell_type": "code",
   "execution_count": null,
   "metadata": {},
   "outputs": [],
   "source": [
    "# Example of a Numpy function: the minimum and maximum of an array\n",
    "example_array = [1,2,3,4,5]\n",
    "minimum = np.min(example_array)\n",
    "maximum = np.max(example_array)\n",
    "print(minimum, maximum)"
   ]
  },
  {
   "cell_type": "code",
   "execution_count": null,
   "metadata": {},
   "outputs": [],
   "source": [
    "def find_statistics(x_n, y_n):\n",
    "    ''' Given an x and y vector of datapoints, return some of their statistics such as the mean (average) and \n",
    "        the variance. '''\n",
    "    x_average = # Fill in \n",
    "    x_variance = # Fill in \n",
    "    y_average = # Fill in \n",
    "    y_variance = # Fill in \n",
    "    return [x_average, x_variance, y_average, y_variance]\n",
    "\n",
    "# For every dataset calculated\n",
    "statistics_1 = find_statistics(x_1, y_1)\n",
    "statistics_2 = find_statistics(x_2, y_2)\n",
    "statistics_3 = find_statistics(x_3, y_3)\n",
    "statistics_4 = find_statistics(x_4, y_4)"
   ]
  },
  {
   "cell_type": "markdown",
   "metadata": {},
   "source": [
    "The statistics we just have found per dataset are now shown next to each other in the following table that can be seen by running the block below!\n",
    "\n",
    "**Bonus**: Look if you can find some more interesting statistics in the NumPy-reference and add them to the table"
   ]
  },
  {
   "cell_type": "code",
   "execution_count": null,
   "metadata": {},
   "outputs": [],
   "source": [
    "d = {\"dataset1\": statistics_1, \"dataset2\": statistics_2, \"dataset3\": statistics_3, \"dataset4\": statistics_4}\n",
    "dataframe = pd.DataFrame(data=d, index=[\"Average x\", \"Variance x\", \"Average y\", \"Variance y\"])\n",
    "dataframe"
   ]
  },
  {
   "cell_type": "markdown",
   "metadata": {},
   "source": [
    "### Explain\n",
    "\n",
    "- We now can see some information about the data. What do you see from the statistics we just found? \n",
    "- What can we say about these different datasets and what would we expect in terms of the line that will be found with linear regression? "
   ]
  },
  {
   "cell_type": "markdown",
   "metadata": {},
   "source": [
    "**Write down your answer in this block by double clicking here!**"
   ]
  },
  {
   "cell_type": "markdown",
   "metadata": {},
   "source": [
    "## Plotting \n",
    "Next, we will visualise the data in multiple graphs using the matplotlib library. This will allow us to look at the data more easily. We've once again done some work for you, as making graphs can become quite complicated."
   ]
  },
  {
   "cell_type": "markdown",
   "metadata": {},
   "source": [
    "### Box-plot\n",
    "As you might recall from math class, a box-plot shows the ditstribution of data in a group of numbers: showing you what the highest and lowest values are and where the mean lies.\n",
    "\n",
    "In this assignment, you have to use the graph_box_plot-function we have written to create box-plots with a certain look. Try to change the variables in such a way that the graphs for the first dataset looks like the image below. Try to understand what is going on in the function, so you can change the variables in a smart way. \n",
    "\n",
    "![title](testplot.png) \n",
    "\n",
    "**Reminder**: Do not forget to graph all 4 datasets!"
   ]
  },
  {
   "cell_type": "code",
   "execution_count": null,
   "metadata": {},
   "outputs": [],
   "source": [
    "def graph_box_plot(x_data, y_data, vertical, min_value, max_value, name):\n",
    "    ''' Creates two box-plots for values in the x and y-axis.\n",
    "    Boolean: vertical = False to turn the plots \n",
    "    min_value, max_value = range of the axes \n",
    "    string: name = the title of the graphs '''\n",
    "    \n",
    "    ranges = (min_value, max_value)\n",
    "    plt.subplot(2, 2, 1)\n",
    "    plt.title(name + ' x-values')\n",
    "    plt.xlim(ranges)\n",
    "    plt.boxplot(x_data, vert=vertical)\n",
    "    plt.subplot(2, 2, 2)\n",
    "    plt.title(name + ' y-values')\n",
    "    plt.xlim(ranges)\n",
    "    plt.boxplot(y_data, vert=vertical)\n",
    "    plt.show()\n",
    "\n",
    "graph_box_plot() # Insert you code, the variables, inbetween these brackets!"
   ]
  },
  {
   "cell_type": "markdown",
   "metadata": {},
   "source": [
    "### Explain \n",
    "- Now that we have some more information about the data, do you think they are the same?\n",
    "- Can you explain what happened? "
   ]
  },
  {
   "cell_type": "markdown",
   "metadata": {},
   "source": [
    "**Write down your answer in this block!**"
   ]
  },
  {
   "cell_type": "markdown",
   "metadata": {},
   "source": [
    "### Four scatter plots of the data\n",
    "So we have noticed something is going on with these different datasets. Let's look at what our data looks like once we put it in a 2D-graph. We will do this using a scatter plot, which will show us what the data looks like if you look at them as coordinates in a 2D-grid. \n",
    "\n",
    "You have already seen a little bit of how matplotlib works, so now try to write your own function that fits the description given a the beginning of the function.\n",
    "\n",
    "**Hint:** If you forget about certain functions, always look them up via Google or the documentation!"
   ]
  },
  {
   "cell_type": "code",
   "execution_count": null,
   "metadata": {},
   "outputs": [],
   "source": [
    "def graph_scatter_plot(x_data, y_data, dot_color, min_value, max_value, name):\n",
    "    ''' This function creates a named scatter plot using data of the x-coordinates and the y-coordinates. \n",
    "        A colour must be given by writing the name of the colour. The range of the x-axis and y-axis must also be \n",
    "        given.'''\n",
    "    # Insert code here!\n"
   ]
  },
  {
   "cell_type": "markdown",
   "metadata": {},
   "source": [
    "## Linear Regression\n",
    "Now we will see how linear regression optimises a line through our data sets! For this, we will use the linear regression implemented in the sklearn library. \n",
    "\n",
    "**Hint**: Use the linear regression function in sklearn found here http://scikit-learn.org/stable/modules/generated/sklearn.linear_model.LinearRegression.html"
   ]
  },
  {
   "cell_type": "code",
   "execution_count": null,
   "metadata": {},
   "outputs": [],
   "source": [
    "def linear_regression(x_data, y_data):\n",
    "    ''' Given both the x and y components of the data, show the predicted line. '''\n",
    "    # To use sklearn, the lists should be numpy arrays \n",
    "    x_data = np.array(x_data).reshape(-1,1)\n",
    "    y_data = np.array(y_data).reshape(-1,1)\n",
    "    \n",
    "    # Put your code here!\n",
    "    \n",
    "    # Plots the prediction line, call you outcome variable 'y_pred' or this will not work!\n",
    "    plt.plot(x_data, y_pred, color='blue', linewidth=3)\n",
    "    plt.show()\n",
    "    \n",
    "# Insert code here!"
   ]
  },
  {
   "cell_type": "markdown",
   "metadata": {},
   "source": [
    "### Explain\n",
    "You have now applied Linear Regression. \n",
    "\n",
    "- What does this do? What did you find? Can Linear Regression be used for finding a solution to a hyperbola (hyperbool)? \n",
    "- Is there a difference for the fit for the datasets? What does this mean? Did you expect this? Can you explain the outcomes based on the theory you have gotten during the lecture."
   ]
  },
  {
   "cell_type": "markdown",
   "metadata": {},
   "source": [
    "**PUT YOUR ANSWER HERE BY DOUBLE CLICKING ON IT**"
   ]
  },
  {
   "cell_type": "markdown",
   "metadata": {},
   "source": [
    "- Now, we can see that the regression line is not always great for every dataset. The statistics of data can also be misleading when calculating such statistics from it. \n",
    "- Do you have an idea on how we can solve this problem of not knowing what we are learning? Are there alternatives for better analysis? "
   ]
  },
  {
   "cell_type": "markdown",
   "metadata": {},
   "source": [
    "**PUT YOUR ANSWER HERE BY DOUBLE CLICKING ON IT**"
   ]
  },
  {
   "cell_type": "markdown",
   "metadata": {},
   "source": [
    "# BONUS \n",
    "\n",
    "You have reached the end of the assignment, great! If you want to have a little more insight, then this extra bonus will tell you more! \n",
    "\n",
    "The problem we just faced is a well known problem called the Anscombe's quartet, where all its information can be found at https://en.wikipedia.org/wiki/Anscombe%27s_quartet. They show the problem and they also suggest the best way to solve it: \n",
    "\n",
    "*Always Look At Your Data!*\n",
    "\n",
    "Now we only have a 2D space, where we can easily show it in a graph, but what would happen if we go to a higher dimension space such as 5D? How are we going to show it? Can you think about that?  \n",
    "\n",
    "We are now going to implement the Linear Regression algorithm ourselves instead of using the sklearn version!"
   ]
  },
  {
   "cell_type": "markdown",
   "metadata": {},
   "source": [
    "This algorithm consists of several steps as discussed in the lecture, but the general order is previously made for you, so that you can fill in each function to have it working!"
   ]
  },
  {
   "cell_type": "markdown",
   "metadata": {},
   "source": [
    "### New data\n",
    "We will first create new data for this bonus exercise. Just execute this block and continue to the next question. If you want, you can look at it more thoroughly to learn how to generate datasets yourself!"
   ]
  },
  {
   "cell_type": "code",
   "execution_count": null,
   "metadata": {},
   "outputs": [],
   "source": [
    "# Create dataset and plot it \n",
    "m = 100;\n",
    "a = 0.5\n",
    "b = 2\n",
    "\n",
    "x = linspace(0, 10, m)\n",
    "y = a * x + b + 0.3 * random.randn(m)\n",
    "plot(x, y, 'r+');"
   ]
  },
  {
   "cell_type": "markdown",
   "metadata": {},
   "source": [
    "### Calculating the cost \n",
    "\n",
    "Remember that the total cost is defined as the squared difference between your predictions and the actual points. Mathematically it looks like this:\n",
    "$$\n",
    "\\frac{1}{2m} \\sum_{i=1}^{m} ((\\v\\theta_0+ \\theta_1\\v x\\ls i) - y\\ls i)^2\n",
    "$$\n",
    "\n",
    "We will later use the cost to see if your gradient descent is actually working. For now it's just an introduction to some more mathematics in python.\n",
    "\n",
    "Can you see why $(\\v\\theta_0+ \\theta_1\\v x\\ls i)$ is the prediction? Try to understand the roles of $\\theta_0$ and $\\theta_1$ in terms of the bias and the weight!\n",
    "\n",
    "**Hint**: use the sum()-function to sum a list of numbers"
   ]
  },
  {
   "cell_type": "code",
   "execution_count": null,
   "metadata": {},
   "outputs": [],
   "source": [
    "def cost(theta_0, theta_1, x, y):\n",
    "    ''' Given the bias, a weight (theta_0, theta_1), and both the x and y vectors containing data, calculate the \n",
    "        cost based on the squared difference. '''\n",
    "    m = size(x)\n",
    "    # Insert your math here!\n",
    "    return result\n",
    "\n",
    "# Insert code here to run the function mentioned above!"
   ]
  },
  {
   "cell_type": "markdown",
   "metadata": {},
   "source": [
    "### Doing one step of Gradient Descent\n",
    "Next, we will adjust our variables $\\theta_0$ and $\\theta_1$ by applying gradient descent. Remember that mathematically that looks like this:\n",
    "$$\n",
    "\\theta_0 (\\text{update}) = \\frac{1}{m} \\sum_{i=1}^{m} ((\\v\\theta_0+ \\theta_1\\v x\\ls i)- y\\ls i)\n",
    "$$\n",
    "$$\n",
    "\\theta_1 (\\text{update}) = \\frac{1}{m} \\sum_{i=1}^{m} ((\\v\\theta_0+ \\theta_1\\v x\\ls i)- y\\ls i) x\\ls i\n",
    "$$\n",
    "and moreover that the update has the following form: (the old one will be updated with a minor adjustment with the error in smaller steps that are regulared with the learning rate $\\alpha$)\n",
    "\n",
    "$$\n",
    "\\theta_n = \\theta_n + \\alpha (\\theta_n (\\text{update}))\n",
    "$$\n",
    "\n",
    "You have not seen the word *for* in ealier excersises. This word means that the lines below it are repeated multiple times (*m* times in this case). This allows us to calculate the difference between every coordinate in our dataset and the prediction, by using the square brackets. This can be quite complicated, so ask an assistent for help if you do not understand this part."
   ]
  },
  {
   "cell_type": "code",
   "execution_count": null,
   "metadata": {},
   "outputs": [],
   "source": [
    "def grad_descent_step(learning_rate, theta_0, theta_1, x, y):\n",
    "    ''''''\n",
    "    # Initialize variables\n",
    "    m = size(x)\n",
    "    dtheta_0 = 0.0\n",
    "    dtheta_1 = 0.0\n",
    "    \n",
    "    # Do m gradient descent steps \n",
    "    for i in range(m):\n",
    "        h = x[i] * theta_1 + theta_0\n",
    "        dtheta_0 = dtheta_0 + # Insert code here!\n",
    "        dtheta_1 = dtheta_1 + # Insert code here!\n",
    "        \n",
    "    # Insert code here!\n",
    "    return theta_0, theta_1\n",
    "\n",
    "# Insert code here!"
   ]
  },
  {
   "cell_type": "markdown",
   "metadata": {},
   "source": [
    "### Checking if it works\n",
    "At this point, we can check if our functions work by checking if the cost of our function becomes lower after doing one step of gradient descent. \n",
    "\n",
    "**HINT:** Make sure that you run gradient descent two times, where one run will do less iterations (lower m value!) and calculate their cost. Also, don't forget to name the costs old_cost and new_cost to make sure everything goes well."
   ]
  },
  {
   "cell_type": "code",
   "execution_count": null,
   "metadata": {},
   "outputs": [],
   "source": [
    "# insert your code here!\n",
    "print(old_cost)\n",
    "print(new_cost)"
   ]
  },
  {
   "cell_type": "markdown",
   "metadata": {},
   "source": [
    "### Doing it a lot of times\n",
    "\n",
    "Now we will combine everything we have learned to calculate the optimal line for our new dataset! Use the functions we just made and choose the right values for $\\theta_0$ and $\\theta_1$ to find the optimal line.\n",
    "\n",
    "Do you understand why the prediction is needed and why we use the x-values to get the predicted y-values? Try to understand this before continuing. "
   ]
  },
  {
   "cell_type": "code",
   "execution_count": null,
   "metadata": {},
   "outputs": [],
   "source": [
    "def predict(x, theta_0, theta_1):\n",
    "    ''' Given the x , the bias (theta_0) and a weight (theta_1), return the predicted y value. '''\n",
    "    # We use this function to calculate the line your function has predicted!\n",
    "    x_predict = theta_0 + theta_1 * x\n",
    "    return x_predict\n",
    "\n",
    "# Insert code here!\n",
    "for i in range(100):\n",
    "    ''' \n",
    "    - what functions should you call? \n",
    "    - What variables need to be changed? '''\n",
    "    # Insert code here!\n",
    "    \n",
    "# We will show the result as a graph here!\n",
    "plt.plot(x, predict(x, theta_0, theta_1))\n",
    "plt.plot(x, y, 'o')\n",
    "plt.show()"
   ]
  },
  {
   "cell_type": "markdown",
   "metadata": {},
   "source": [
    "The previous prection function only takes as input a single value, while you have a vector of values that need a prediction. Now we use a for loop to go through every single element of it. Is this efficient? Can you think about a better, more efficient way to do this? If so, try it in the block below!\n",
    "\n",
    "**HINT:** Remember the vector-wise manners!"
   ]
  },
  {
   "cell_type": "code",
   "execution_count": null,
   "metadata": {},
   "outputs": [],
   "source": [
    "# Your turn!"
   ]
  },
  {
   "cell_type": "markdown",
   "metadata": {},
   "source": [
    "## Extra Bonus\n",
    "Good job! You also have completed all the bonus assignment. If you would like to do more during the session, or even at home, you can add new cells like these with Insert -> Insert Cell Below, which will open a new code block. You can then write Python code in it. If you would like to try some other visualizations, more Machine Learning methods, or something else, you can always do it below! \n",
    "\n",
    "We hoped that you liked it and have learned a lot from it!"
   ]
  }
 ],
 "metadata": {
  "kernelspec": {
   "display_name": "Python 3",
   "language": "python",
   "name": "python3"
  },
  "language_info": {
   "codemirror_mode": {
    "name": "ipython",
    "version": 3
   },
   "file_extension": ".py",
   "mimetype": "text/x-python",
   "name": "python",
   "nbconvert_exporter": "python",
   "pygments_lexer": "ipython3",
   "version": "3.5.2"
  }
 },
 "nbformat": 4,
 "nbformat_minor": 2
}
