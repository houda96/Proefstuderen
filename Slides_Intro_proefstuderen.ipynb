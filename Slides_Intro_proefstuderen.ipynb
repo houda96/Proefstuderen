{
 "cells": [
  {
   "cell_type": "markdown",
   "metadata": {
    "slideshow": {
     "slide_type": "slide"
    }
   },
   "source": [
    "# Introduction to Python\n",
    "\n",
    "By Houda Alberts"
   ]
  },
  {
   "cell_type": "markdown",
   "metadata": {
    "slideshow": {
     "slide_type": "slide"
    }
   },
   "source": [
    "# Overview\n",
    "- How to program\n",
    "- Common constructions"
   ]
  },
  {
   "cell_type": "markdown",
   "metadata": {
    "slideshow": {
     "slide_type": "slide"
    }
   },
   "source": [
    "# Opening a notebook (DEMO)\n",
    "- Opening a terminal\n",
    "- Get to the needed directory (cd)\n",
    "- Use the command \"jupyter notebook\"\n",
    "- CAUTION: If it does not work, please tell us!"
   ]
  },
  {
   "cell_type": "markdown",
   "metadata": {
    "slideshow": {
     "slide_type": "slide"
    }
   },
   "source": [
    "# Comments and docstrings \n",
    "- Give extra information about what your program does\n",
    "- Gives information when help is asked to the program itself "
   ]
  },
  {
   "cell_type": "code",
   "execution_count": 4,
   "metadata": {
    "slideshow": {
     "slide_type": "subslide"
    }
   },
   "outputs": [
    {
     "name": "stdout",
     "output_type": "stream",
     "text": [
      "Help on function load_dataset_file in module __main__:\n",
      "\n",
      "load_dataset_file(file)\n",
      "    Given a text file containing x and y values spaced by a space and each point on a separate line, return \n",
      "    the x and y values separately.\n",
      "\n"
     ]
    }
   ],
   "source": [
    "def load_dataset_file(file):\n",
    "    ''' Given a text file containing x and y values spaced by a space and each point on a separate line, return \n",
    "        the x and y values separately. '''\n",
    "    # Go through the file \n",
    "    with open(file) as f:\n",
    "        data = f.read()\n",
    "    data_points = data.split(\"\\n\")[1:-1]\n",
    "    \n",
    "    # Find the x and y values and store them \n",
    "    x = []\n",
    "    y = []\n",
    "    for data_point in data_points:\n",
    "        list_points = data_point.split(\" \")\n",
    "        x.append(float(list_points[0]))\n",
    "        y.append(float(list_points[1]))\n",
    "    return x, y\n",
    "    \n",
    "help(load_dataset_file)"
   ]
  },
  {
   "cell_type": "markdown",
   "metadata": {
    "slideshow": {
     "slide_type": "slide"
    }
   },
   "source": [
    "# Structure notebook\n",
    "- From the beginning to end (top to bottom) \n",
    "- Always run each cell in between!"
   ]
  },
  {
   "cell_type": "markdown",
   "metadata": {
    "slideshow": {
     "slide_type": "slide"
    }
   },
   "source": [
    "# Markdown and Code (DEMO)\n",
    "- Two types of cells \n",
    "    - Cells for code\n",
    "    - Cells for text"
   ]
  },
  {
   "cell_type": "markdown",
   "metadata": {
    "slideshow": {
     "slide_type": "slide"
    }
   },
   "source": [
    "# Variables\n",
    "- Instances of values\n",
    "- Have specific names\n",
    "- Don't have to mention type"
   ]
  },
  {
   "cell_type": "code",
   "execution_count": 6,
   "metadata": {
    "slideshow": {
     "slide_type": "subslide"
    }
   },
   "outputs": [
    {
     "name": "stdout",
     "output_type": "stream",
     "text": [
      "8\n",
      "4\n",
      "<class 'int'>\n",
      "hello\n",
      "<class 'str'>\n"
     ]
    }
   ],
   "source": [
    "addition = 3 + 5\n",
    "theta_1 = 4\n",
    "greeting_word = \"hello\"\n",
    "print(addition)\n",
    "print(theta_1)\n",
    "print(type(theta_1))\n",
    "print(greeting_word)\n",
    "print(type(greeting_word))"
   ]
  },
  {
   "cell_type": "markdown",
   "metadata": {
    "slideshow": {
     "slide_type": "slide"
    }
   },
   "source": [
    "# Vectors (Efficiency!) and For Loops\n",
    "- Representation of multiple elements\n",
    "- Going through those values \n",
    "- Can make code more fast"
   ]
  },
  {
   "cell_type": "code",
   "execution_count": 8,
   "metadata": {
    "slideshow": {
     "slide_type": "subslide"
    }
   },
   "outputs": [
    {
     "name": "stdout",
     "output_type": "stream",
     "text": [
      "1\n"
     ]
    },
    {
     "ename": "IndexError",
     "evalue": "list index out of range",
     "output_type": "error",
     "traceback": [
      "\u001b[0;31m---------------------------------------------------------------------------\u001b[0m",
      "\u001b[0;31mIndexError\u001b[0m                                Traceback (most recent call last)",
      "\u001b[0;32m<ipython-input-8-6d007e0611b5>\u001b[0m in \u001b[0;36m<module>\u001b[0;34m()\u001b[0m\n\u001b[1;32m      1\u001b[0m \u001b[0mtest_vector\u001b[0m \u001b[0;34m=\u001b[0m \u001b[0;34m[\u001b[0m\u001b[0;36m1\u001b[0m\u001b[0;34m,\u001b[0m \u001b[0;36m2\u001b[0m\u001b[0;34m,\u001b[0m \u001b[0;36m3\u001b[0m\u001b[0;34m,\u001b[0m \u001b[0;36m4\u001b[0m\u001b[0;34m,\u001b[0m \u001b[0;36m5\u001b[0m\u001b[0;34m]\u001b[0m\u001b[0;34m\u001b[0m\u001b[0m\n\u001b[1;32m      2\u001b[0m \u001b[0mprint\u001b[0m\u001b[0;34m(\u001b[0m\u001b[0mtest_vector\u001b[0m\u001b[0;34m[\u001b[0m\u001b[0;36m0\u001b[0m\u001b[0;34m]\u001b[0m\u001b[0;34m)\u001b[0m\u001b[0;34m\u001b[0m\u001b[0m\n\u001b[0;32m----> 3\u001b[0;31m \u001b[0mprint\u001b[0m\u001b[0;34m(\u001b[0m\u001b[0mtest_vector\u001b[0m\u001b[0;34m[\u001b[0m\u001b[0;36m6\u001b[0m\u001b[0;34m]\u001b[0m\u001b[0;34m)\u001b[0m\u001b[0;34m\u001b[0m\u001b[0m\n\u001b[0m",
      "\u001b[0;31mIndexError\u001b[0m: list index out of range"
     ]
    }
   ],
   "source": [
    "test_vector = [1, 2, 3, 4, 5]\n",
    "print(test_vector[0])\n",
    "print(test_vector[6])"
   ]
  },
  {
   "cell_type": "code",
   "execution_count": 12,
   "metadata": {
    "slideshow": {
     "slide_type": "subslide"
    }
   },
   "outputs": [
    {
     "name": "stdout",
     "output_type": "stream",
     "text": [
      "1\n",
      "2\n",
      "3\n",
      "4\n",
      "5\n",
      "------------\n",
      "1\n",
      "2\n",
      "3\n",
      "4\n",
      "5\n"
     ]
    }
   ],
   "source": [
    "test_vector = [1, 2, 3, 4, 5]\n",
    "for element in test_vector:\n",
    "    print(element)\n",
    "    \n",
    "print(\"------------\")\n",
    "    \n",
    "for i in range(len(test_vector)):\n",
    "    print(test_vector[i])"
   ]
  },
  {
   "cell_type": "code",
   "execution_count": 18,
   "metadata": {
    "slideshow": {
     "slide_type": "subslide"
    }
   },
   "outputs": [
    {
     "name": "stdout",
     "output_type": "stream",
     "text": [
      "[11, 12, 13, 14, 15]\n",
      "11\n"
     ]
    }
   ],
   "source": [
    "import numpy as np\n",
    "\n",
    "test_vector = np.asarray([1, 2, 3, 4, 5])\n",
    "new_vector = []\n",
    "for element in test_vector:\n",
    "    new_vector.append(element + 10)\n",
    "    \n",
    "print(new_vector)\n",
    "\n",
    "new_vector_1 = test_vector + 10\n",
    "print(new_vector_1)"
   ]
  },
  {
   "cell_type": "markdown",
   "metadata": {
    "slideshow": {
     "slide_type": "slide"
    }
   },
   "source": [
    "# Autocomplete (DEMO)"
   ]
  },
  {
   "cell_type": "code",
   "execution_count": null,
   "metadata": {
    "slideshow": {
     "slide_type": "subslide"
    }
   },
   "outputs": [],
   "source": [
    "np.\n",
    "new"
   ]
  },
  {
   "cell_type": "markdown",
   "metadata": {
    "slideshow": {
     "slide_type": "slide"
    }
   },
   "source": [
    "# Functions\n",
    "- General piece of code \n",
    "- Can be used multiple times in code\n",
    "- Makes it more compact"
   ]
  },
  {
   "cell_type": "code",
   "execution_count": 20,
   "metadata": {
    "slideshow": {
     "slide_type": "subslide"
    }
   },
   "outputs": [],
   "source": [
    "def load_dataset_file(file):\n",
    "    ''' Given a text file containing x and y values spaced by a space and each point on a separate line, return \n",
    "        the x and y values separately. '''\n",
    "    # Go through the file \n",
    "    with open(file) as f:\n",
    "        data = f.read()\n",
    "    data_points = data.split(\"\\n\")[1:-1]\n",
    "    \n",
    "    # Find the x and y values and store them \n",
    "    x = []\n",
    "    y = []\n",
    "    for data_point in data_points:\n",
    "        list_points = data_point.split(\" \")\n",
    "        x.append(float(list_points[0]))\n",
    "        y.append(float(list_points[1]))\n",
    "    return x, y"
   ]
  },
  {
   "cell_type": "markdown",
   "metadata": {
    "slideshow": {
     "slide_type": "slide"
    }
   },
   "source": [
    "# General Tips!\n",
    "- Do it step by step\n",
    "- Remember the steps\n",
    "- Documentation is key! \n",
    "- Use autofill to avoid typing too much"
   ]
  },
  {
   "cell_type": "markdown",
   "metadata": {
    "slideshow": {
     "slide_type": "slide"
    }
   },
   "source": [
    "# Ask questions!\n",
    "- We are here to help, so don't be afraid to ask questions!"
   ]
  }
 ],
 "metadata": {
  "celltoolbar": "Slideshow",
  "kernelspec": {
   "display_name": "Python 3",
   "language": "python",
   "name": "python3"
  },
  "language_info": {
   "codemirror_mode": {
    "name": "ipython",
    "version": 3
   },
   "file_extension": ".py",
   "mimetype": "text/x-python",
   "name": "python",
   "nbconvert_exporter": "python",
   "pygments_lexer": "ipython3",
   "version": "3.5.2"
  }
 },
 "nbformat": 4,
 "nbformat_minor": 2
}
